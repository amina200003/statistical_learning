{
 "cells": [
  {
   "cell_type": "code",
   "execution_count": 1,
   "id": "6ffbd19c-ff5b-4ada-808d-08ed326e589f",
   "metadata": {},
   "outputs": [],
   "source": [
    "import numpy as np"
   ]
  },
  {
   "cell_type": "code",
   "execution_count": 12,
   "id": "1d2625be-7b73-401e-9fa8-9ea061729946",
   "metadata": {},
   "outputs": [
    {
     "name": "stdout",
     "output_type": "stream",
     "text": [
      "Decoder tokens: ['The', 'red']\n",
      "Attention weights:\n",
      " [[0.2703073  0.2703073  0.45938541]\n",
      " [0.29462934 0.22204396 0.4833267 ]]\n",
      "Output vectors:\n",
      " [[1.45938541 0.7296927 ]\n",
      " [1.4833267  0.70537066]]\n"
     ]
    }
   ],
   "source": [
    "encoder_tok= [\"The\",\"red\",\"sky\"]\n",
    "encoder_embedds= {\n",
    "     \"The\": np.array([1, 0]),\n",
    "    \"red\": np.array([0, 1]),\n",
    "    \"sky\": np.array([1, 1])\n",
    "}\n",
    "\n",
    "X_enc = np.stack([encoder_embedds[t] for t in encoder_tok])\n",
    "\n",
    "#decoder (partiel sentence) \n",
    "decoder_tok = [\"The\", \"red\"]\n",
    "decoder_embedds = {\n",
    "    \"The\": np.array([0.5, 0.5]),\n",
    "    \"red\": np.array([0.2, 1.0])\n",
    "}\n",
    "X_dec = np.stack([decoder_embedds[t] for t in decoder_tok])\n",
    "\n",
    "#random Q,K,V matrices\n",
    "W_q = np.array([[1, 0], [0, 1]])  \n",
    "W_k = np.array([[0.5, 1], [1, 0.5]]) \n",
    "W_v = np.array([[1, 1], [0, 1]])  \n",
    "\n",
    "#Q from decoder\n",
    "Q= X_dec @ W_q.T\n",
    "\n",
    "#K and V from encoder\n",
    "K= X_enc @ W_k.T\n",
    "V= X_enc @ W_v.T\n",
    "\n",
    "#compute attention scores between Q from decoder and K from encoder \n",
    "scores = Q @ K.T #attention scores\n",
    "scores_scaled = scores / np.sqrt(K.shape[1])\n",
    "\n",
    "\n",
    "# softmax for attention weights \n",
    "def softmax(x):\n",
    "    e_x = np.exp(x - np.max(x))\n",
    "    return e_x / e_x.sum(axis=-1, keepdims=True)\n",
    "att_weight= softmax(scores_scaled)\n",
    "\n",
    "\n",
    "output= att_weight @ V\n",
    "\n",
    "print(\"Decoder tokens:\", decoder_tok)\n",
    "print(\"Attention weights:\\n\", att_weight)\n",
    "print(\"Output vectors:\\n\", output)\n",
    "\n",
    "\n"
   ]
  },
  {
   "cell_type": "code",
   "execution_count": null,
   "id": "f3cdb86c-c5e1-484b-965e-04b2dce1fc17",
   "metadata": {},
   "outputs": [],
   "source": []
  }
 ],
 "metadata": {
  "kernelspec": {
   "display_name": "Python 3 (ipykernel)",
   "language": "python",
   "name": "python3"
  },
  "language_info": {
   "codemirror_mode": {
    "name": "ipython",
    "version": 3
   },
   "file_extension": ".py",
   "mimetype": "text/x-python",
   "name": "python",
   "nbconvert_exporter": "python",
   "pygments_lexer": "ipython3",
   "version": "3.11.10"
  }
 },
 "nbformat": 4,
 "nbformat_minor": 5
}
