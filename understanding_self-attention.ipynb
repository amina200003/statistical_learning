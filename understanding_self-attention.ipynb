{
 "cells": [
  {
   "cell_type": "code",
   "execution_count": 3,
   "id": "34b9f0e8-83b6-477a-bc66-110af795ae30",
   "metadata": {},
   "outputs": [],
   "source": [
    "import numpy as np"
   ]
  },
  {
   "cell_type": "code",
   "execution_count": 16,
   "id": "39bb8341-3596-4ace-b7a2-8c0aad18c113",
   "metadata": {},
   "outputs": [
    {
     "name": "stdout",
     "output_type": "stream",
     "text": [
      "Tokens: ['Le', 'chien', 'dort']\n",
      "Attention weights:\n",
      " [[0.22460634 0.31986617 0.45552749]\n",
      " [0.31986617 0.22460634 0.45552749]\n",
      " [0.20457105 0.20457105 0.59085789]]\n",
      "Output vectors:\n",
      " [[1.45552749 0.77539366]\n",
      " [1.45552749 0.68013383]\n",
      " [1.59085789 0.79542895]]\n"
     ]
    }
   ],
   "source": [
    "tokens = [\"Le\", \"chien\",\"dort\"]\n",
    "\n",
    "embedds={\n",
    "    \"Le\": np.array([1, 0]),\n",
    "    \"chien\": np.array([0, 1]),\n",
    "    \"dort\": np.array([1, 1])\n",
    "}\n",
    "\n",
    "X= np.stack([embedds[t] for t in tokens ])\n",
    "\n",
    "\n",
    "#random Q,K,V matrices\n",
    "W_q = np.array([[1, 0], [0, 1]]) \n",
    "W_k = np.array([[0.5, 1], [1, 0.5]])\n",
    "W_v = np.array([[1, 1], [0, 1]])\n",
    "#these numbers are usually learned by the model during training \n",
    "\n",
    "#Compute Q, K, V\n",
    "Q = X @ W_q.T\n",
    "K = X @ W_k.T\n",
    "V = X @ W_v.T\n",
    "#multiply input embeddings with weight matrices to turn them into queries, keys, and values \n",
    "#T--> transpose matrix (row becomes column and vice-versa)  to make the matrix shapes match correctly for multiplication.\n",
    "\n",
    "#compute attention scores between Q and K with dot product \n",
    "scores = Q @ K.T #attention scores\n",
    "scores_scaled = scores / np.sqrt(K.shape[1]) # scale scores to stabilize softmax\n",
    "\n",
    "# softmax for attention weights \n",
    "def softmax(x):\n",
    "    e_x = np.exp(x - np.max(x))\n",
    "    return e_x / e_x.sum(axis=-1, keepdims=True)\n",
    "\n",
    "att_weight= softmax(scores_scaled)\n",
    "\n",
    "\n",
    "\n",
    "#explication:\n",
    "#x= input vector [2,1,0.1]\n",
    "# find the highest value in x which is m= 2\n",
    "# e_x: substract each elt of x with m, n = [0,-1,1.9]\n",
    "# exponentielle of each elt of n= [e^0,e^-1, e^-1.9], e is a constant of approximatly 2.7 use in attention to have positive value. which gives us l= [1,0.3679,0.1496]\n",
    "# sum of l= j=1.5\n",
    "# divide each elt of l with j === [0.659,0.242,0.099]\n",
    "#GOAL: have a weight between O and 1 \n",
    "\n",
    "output= att_weight @ V\n",
    "\n",
    "print(\"Tokens:\", tokens)\n",
    "print(\"Attention weights:\\n\", att_weight)\n",
    "print(\"Output vectors:\\n\", output)"
   ]
  },
  {
   "cell_type": "code",
   "execution_count": null,
   "id": "45203146-2e11-4643-9db6-21acb94645a4",
   "metadata": {},
   "outputs": [],
   "source": []
  }
 ],
 "metadata": {
  "kernelspec": {
   "display_name": "Python 3 (ipykernel)",
   "language": "python",
   "name": "python3"
  },
  "language_info": {
   "codemirror_mode": {
    "name": "ipython",
    "version": 3
   },
   "file_extension": ".py",
   "mimetype": "text/x-python",
   "name": "python",
   "nbconvert_exporter": "python",
   "pygments_lexer": "ipython3",
   "version": "3.11.10"
  }
 },
 "nbformat": 4,
 "nbformat_minor": 5
}
